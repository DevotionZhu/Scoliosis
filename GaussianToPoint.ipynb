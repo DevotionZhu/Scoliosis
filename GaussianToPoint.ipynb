{
 "cells": [
  {
   "cell_type": "code",
   "execution_count": 1,
   "metadata": {},
   "outputs": [],
   "source": [
    "import numpy as np\n",
    "import load_utils\n",
    "import spine_augmentation as aug\n",
    "import confidence_map as cmap\n",
    "import spine_model\n",
    "import torch.optim as optim\n",
    "import torch.nn as nn\n",
    "import torch\n",
    "import os.path as path\n",
    "import torchvision\n",
    "import matplotlib.pyplot as plt\n",
    "import cv2\n",
    "import torch.nn.functional as F\n",
    "from PIL import Image\n",
    "import folders as f\n",
    "import os\n",
    "import argparse\n",
    "\n"
   ]
  },
  {
   "cell_type": "code",
   "execution_count": 2,
   "metadata": {},
   "outputs": [],
   "source": [
    "net = spine_model.SpineModelPAF()\n",
    "save_path = f.checkpoint_heat_path\n",
    "net.load_state_dict(torch.load(save_path))\n",
    "net.eval()\n",
    "net.cuda()\n",
    "test_data_loader = load_utils.test_loader(2)\n",
    "device = torch.device(\"cuda\")"
   ]
  },
  {
   "cell_type": "code",
   "execution_count": 3,
   "metadata": {},
   "outputs": [],
   "source": [
    "with torch.no_grad():\n",
    "    test_imgs, test_labels = next(test_data_loader)\n",
    "    test_imgs = np.asarray(test_imgs, np.float32)[:, np.newaxis, :, :]\n",
    "    test_imgs_01 = test_imgs / 255.0\n",
    "    test_imgs_tensor = torch.from_numpy(test_imgs_01).cuda()\n",
    "    out_pcm, out_paf, _, _ = net(test_imgs_tensor)  # NCHW\n",
    "    np_pcm = out_pcm.detach().cpu().numpy()\n",
    "    np_paf = out_paf.detach().cpu().numpy()"
   ]
  },
  {
   "cell_type": "markdown",
   "metadata": {},
   "source": [
    "## Gaussian to point"
   ]
  },
  {
   "cell_type": "code",
   "execution_count": 4,
   "metadata": {},
   "outputs": [],
   "source": [
    "\n",
    "\n",
    "# lc = np_pcm[0,4]\n",
    "# n"
   ]
  },
  {
   "cell_type": "code",
   "execution_count": 5,
   "metadata": {},
   "outputs": [],
   "source": [
    "def cvshow(img):\n",
    "    assert len(img.shape)==2\n",
    "    img = cv2.resize(img, dsize=None, fx=4, fy=4, interpolation=cv2.INTER_NEAREST)\n",
    "    cv2.imshow(\"img\", img)\n",
    "    cv2.waitKey(0)\n",
    "    cv2.destroyAllWindows()"
   ]
  },
  {
   "cell_type": "code",
   "execution_count": 6,
   "metadata": {},
   "outputs": [],
   "source": [
    "def centeroid(heat):\n",
    "    # Parse center point of connected components\n",
    "    # Return [p][xy]\n",
    "    ret, heat = cv2.threshold(heat, 0.99, 1., cv2.THRESH_BINARY)\n",
    "    heat = np.array(heat*255., np.uint8)\n",
    "    # num: point number + 1 background\n",
    "    num, labels = cv2.connectedComponents(heat)\n",
    "    coords = []\n",
    "    for label in range(1, num):\n",
    "        mask = np.zeros_like(labels, dtype=np.uint8)\n",
    "        mask[labels == label] = 255\n",
    "        M = cv2.moments(mask)\n",
    "        cX = int(M[\"m10\"] / M[\"m00\"])\n",
    "        cY = int(M[\"m01\"] / M[\"m00\"])\n",
    "        coords.append([cX, cY])\n",
    "    return coords\n",
    "    "
   ]
  },
  {
   "cell_type": "code",
   "execution_count": 7,
   "metadata": {},
   "outputs": [],
   "source": [
    "def line_mask(pt1, pt2_list, hw):\n",
    "    # Return images with a line from pt1 to each pts in pt2_list\n",
    "    # Return image pixel value range: [0,1], nparray.\n",
    "    assert len(hw)==2\n",
    "    zeros = np.zeros([len(pt2_list), hw[0], hw[1]], dtype=np.uint8)\n",
    "    masks_with_line = [cv2.line(zeros[i_pt2],tuple(pt1),tuple(pt2),255) for i_pt2, pt2 in enumerate(pt2_list)]\n",
    "    masks_01 = np.array(masks_with_line, dtype=np.float32)/255.\n",
    "    \n",
    "    return masks_01"
   ]
  },
  {
   "cell_type": "code",
   "execution_count": 8,
   "metadata": {},
   "outputs": [],
   "source": [
    "def line_dist(pt1, pt2_list):\n",
    "    # Return distances of a point to a list of points.\n",
    "    # Return numpy array\n",
    "    pt1 = np.array(pt1)\n",
    "    pt2_list = np.array(pt2_list)\n",
    "    dist_1d = pt2_list-pt1\n",
    "    dist_2d = np.linalg.norm(dist_1d, axis=-1)\n",
    "    return dist_2d"
   ]
  },
  {
   "cell_type": "code",
   "execution_count": 17,
   "metadata": {},
   "outputs": [],
   "source": [
    "def coincidence_rate(paf, line_masks, distances):\n",
    "    # Return confidences of a point connects to a list of points\n",
    "    # Return nparray, range from 0 to around 5 (not 0-1 due to opencv line divides distance not equal to 1.0)\n",
    "    assert len(paf.shape)==2\n",
    "    assert len(line_masks.shape)==3\n",
    "    assert len(distances.shape)==1\n",
    "    coincidence = line_masks * paf  # [p2_len][h][w]\n",
    "    co_sum = np.sum(coincidence, axis=(1,2))\n",
    "    co_rate = co_sum / distances\n",
    "    return co_rate"
   ]
  },
  {
   "cell_type": "code",
   "execution_count": 18,
   "metadata": {},
   "outputs": [],
   "source": [
    "def coincidence_rate_from_pcm_paf(lcrc_pcm, hw, paf):\n",
    "    # Return confidences nparray with shape: [p1_len][p2_len]\n",
    "    assert len(lcrc_pcm.shape)==3, \"pcm shape should be: (lr, h, w)\"\n",
    "    assert lcrc_pcm.shape[0]==2, \"1st dim of pcm should have 2 elements: l and r\"\n",
    "    assert len(hw)==2, \"hw shape length should be 2\"\n",
    "    assert len(paf.shape)==2, \"paf shape length should be 2\"\n",
    "    lc_coord, rc_coord = [centeroid(c) for c in lcrc_pcm[:]]  # lc_coord: [p][xy]\n",
    "    coins = []  # coincidence rate list, shape: [pt1_len][pt2_len]\n",
    "    for lc_pt in lc_coord[:]:\n",
    "        p1_masks = line_mask(lc_pt, rc_coord, lcrc_pcm.shape[1:3])  #[p2_len][h][w]\n",
    "        p1_dist = line_dist(lc_pt, rc_coord)\n",
    "        coin = coincidence_rate(paf, p1_masks,p1_dist)\n",
    "        coins.append(coin)\n",
    "    return np.array(coins)"
   ]
  },
  {
   "cell_type": "code",
   "execution_count": 19,
   "metadata": {},
   "outputs": [],
   "source": [
    "lcrc = np_pcm[0, 4:6]\n",
    "coins = coincidence_rate_from_pcm_paf(lcrc, lcrc.shape[1:3], np_paf[0, 0])"
   ]
  },
  {
   "cell_type": "code",
   "execution_count": 25,
   "metadata": {},
   "outputs": [
    {
     "name": "stdout",
     "output_type": "stream",
     "text": [
      "[3, 4, 5, 0, 1, 6, 12, 7, 11, 13, 2, 14, 8, 16, 15, 9, 10] [3, 4, 5, 0, 1, 6, 12, 7, 11, 13, 2, 14, 8, 16, 15, 9, 10]\n"
     ]
    }
   ],
   "source": [
    "# These 2 lists contains paired points. e.g.[3,4,5] and [3,4,6] means l3->r3, l4->r4, l6->r6\n",
    "pair_l, pair_r = [], []\n",
    "args_1d = np.argsort(coins, axis=None)\n",
    "lc_args, rc_args = np.unravel_index(args_1d, coins.shape)\n",
    "for i_arg in reversed(range(len(lc_args))):  # reverse: default argsort gives min->max sort, we want max->min results\n",
    "    al = lc_args[i_arg]\n",
    "    ar = rc_args[i_arg]\n",
    "    if (al not in pair_l) and (ar not in pair_r):\n",
    "        pair_l.append(al)\n",
    "        pair_r.append(ar)\n",
    "    else:\n",
    "        # One point already had a better pair.\n",
    "        pass\n",
    "print(pair_l, pair_r)"
   ]
  }
 ],
 "metadata": {
  "kernelspec": {
   "display_name": "Python 3",
   "language": "python",
   "name": "python3"
  },
  "language_info": {
   "codemirror_mode": {
    "name": "ipython",
    "version": 3
   },
   "file_extension": ".py",
   "mimetype": "text/x-python",
   "name": "python",
   "nbconvert_exporter": "python",
   "pygments_lexer": "ipython3",
   "version": "3.7.3"
  }
 },
 "nbformat": 4,
 "nbformat_minor": 2
}
